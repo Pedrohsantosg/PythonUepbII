{
 "cells": [
  {
   "cell_type": "markdown",
   "metadata": {},
   "source": [
    "[1] Faça um Programa que leia 5 números inteiros, armazene-os em uma lista."
   ]
  },
  {
   "cell_type": "code",
   "execution_count": null,
   "metadata": {},
   "outputs": [],
   "source": [
    "lista = []\n",
    "for i in range(5):\n",
    "    numeros_int = int(input(\"Digite um número inteiro: \"))\n",
    "    lista.append(numeros_int)\n",
    "    print(lista)"
   ]
  },
  {
   "cell_type": "markdown",
   "metadata": {},
   "source": [
    "[2] Faça um Programa que leia 10 números reais e mostre-os na ordem inversa."
   ]
  },
  {
   "cell_type": "code",
   "execution_count": null,
   "metadata": {},
   "outputs": [],
   "source": [
    "lista = []\n",
    "\n",
    "for i in range(10):\n",
    "    numeros_int = int(input(\"Digite um número real: \"))\n",
    "    lista.append(numeros_int)\n",
    "    print(lista)\n",
    "lista.reverse()\n",
    "print(lista)"
   ]
  },
  {
   "cell_type": "markdown",
   "metadata": {},
   "source": [
    "[3] Faça um Programa que leia 40 notas, mostre as notas e a média na tela. "
   ]
  },
  {
   "cell_type": "code",
   "execution_count": null,
   "metadata": {},
   "outputs": [],
   "source": [
    "notas = []\n",
    "\n",
    "for i in range(3):\n",
    "    nota = float(input(\"Digite uma nota: \"))\n",
    "    notas.append(nota)\n",
    "media = sum(notas) / len(notas)\n",
    "print(\"As notas que você digitou são:\", notas)\n",
    "print(\"A média das notas é: {:.2f}\".format(media))\n"
   ]
  },
  {
   "cell_type": "markdown",
   "metadata": {},
   "source": [
    "[4] Faça um Programa que leia 20 números inteiros e armazene-os numa lista. Armazene os números pares na lista PAR e os números IMPARES na lista impar. Imprima as três listas."
   ]
  },
  {
   "cell_type": "code",
   "execution_count": 15,
   "metadata": {},
   "outputs": [
    {
     "name": "stdout",
     "output_type": "stream",
     "text": [
      "Os números que você digitou são: [2, 3, 4, 5, 6]\n",
      "Os números pares são: [2, 4, 6]\n",
      "Os números ímpares são: [3, 5]\n"
     ]
    }
   ],
   "source": [
    "numeros = []\n",
    "pares = []\n",
    "impares = []\n",
    "\n",
    "for i in range(5):\n",
    "    numero = int(input(\"Digite um número inteiro: \"))\n",
    "    numeros.append(numero)\n",
    "    if numero % 2 == 0:\n",
    "        pares.append(numero)\n",
    "    else:\n",
    "        impares.append(numero)\n",
    "\n",
    "print(\"Os números que você digitou são:\", numeros)\n",
    "print(\"Os números pares são:\", pares)\n",
    "print(\"Os números ímpares são:\", impares)\n"
   ]
  }
 ],
 "metadata": {
  "kernelspec": {
   "display_name": "Python 3",
   "language": "python",
   "name": "python3"
  },
  "language_info": {
   "codemirror_mode": {
    "name": "ipython",
    "version": 3
   },
   "file_extension": ".py",
   "mimetype": "text/x-python",
   "name": "python",
   "nbconvert_exporter": "python",
   "pygments_lexer": "ipython3",
   "version": "3.11.9"
  }
 },
 "nbformat": 4,
 "nbformat_minor": 2
}
