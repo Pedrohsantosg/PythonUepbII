{
 "cells": [
  {
   "cell_type": "markdown",
   "metadata": {},
   "source": [
    "[1] Faça um Programa que leia 5 números inteiros, armazene-os em uma lista."
   ]
  },
  {
   "cell_type": "code",
   "execution_count": null,
   "metadata": {},
   "outputs": [],
   "source": []
  },
  {
   "cell_type": "code",
   "execution_count": null,
   "metadata": {},
   "outputs": [],
   "source": [
    "lista = []\n",
    "for i in range(5):\n",
    "    numeros_int = int(input(\"Digite um número inteiro: \"))\n",
    "    lista.append(numeros_int)\n",
    "    print(lista)"
   ]
  },
  {
   "cell_type": "markdown",
   "metadata": {},
   "source": [
    "[2] Faça um Programa que leia 10 números reais e mostre-os na ordem inversa."
   ]
  },
  {
   "cell_type": "code",
   "execution_count": null,
   "metadata": {},
   "outputs": [],
   "source": [
    "lista = []\n",
    "\n",
    "for i in range(10):\n",
    "    numeros_int = int(input(\"Digite um número real: \"))\n",
    "    lista.append(numeros_int)\n",
    "    print(lista)\n",
    "lista.reverse()\n",
    "print(lista)"
   ]
  },
  {
   "cell_type": "markdown",
   "metadata": {},
   "source": [
    "[3] Faça um Programa que leia 40 notas, mostre as notas e a média na tela. "
   ]
  },
  {
   "cell_type": "code",
   "execution_count": null,
   "metadata": {},
   "outputs": [],
   "source": [
    "notas = []\n",
    "\n",
    "for i in range(3):\n",
    "    nota = float(input(\"Digite uma nota: \"))\n",
    "    notas.append(nota)\n",
    "media = sum(notas) / len(notas)\n",
    "print(\"As notas que você digitou são:\", notas)\n",
    "print(\"A média das notas é: {:.2f}\".format(media))\n"
   ]
  },
  {
   "cell_type": "markdown",
   "metadata": {},
   "source": [
    "[4] Faça um Programa que leia 20 números inteiros e armazene-os numa lista. Armazene os números pares na lista PAR e os números IMPARES na lista impar. Imprima as três listas."
   ]
  },
  {
   "cell_type": "code",
   "execution_count": null,
   "metadata": {},
   "outputs": [],
   "source": [
    "numeros = []\n",
    "pares = []\n",
    "impares = []\n",
    "\n",
    "for i in range(5):\n",
    "    numero = int(input(\"Digite um número inteiro: \"))\n",
    "    numeros.append(numero)\n",
    "    if numero % 2 == 0:\n",
    "        pares.append(numero)\n",
    "    else:\n",
    "        impares.append(numero)\n",
    "\n",
    "print(\"Os números que você digitou são:\", numeros)\n",
    "print(\"Os números pares são:\", pares)\n",
    "print(\"Os números ímpares são:\", impares)\n"
   ]
  },
  {
   "cell_type": "markdown",
   "metadata": {},
   "source": [
    "[5] Faça um Programa que peça as quatro notas de 10 alunos, calcule e armazene numa lista a média de cada aluno, imprima o número de alunos com média maior ou igual a 7.0. "
   ]
  },
  {
   "cell_type": "code",
   "execution_count": null,
   "metadata": {},
   "outputs": [],
   "source": [
    "medias = []\n",
    "alunos_com_media_sete = 0\n",
    "\n",
    "for i in range(2):\n",
    "    notas = []\n",
    "    for j in range(2):\n",
    "        nota = float(input(f\"Digite a nota {j+1} do aluno {i+1}: \"))\n",
    "        notas.append(nota)\n",
    "    media = sum(notas) / len(notas)\n",
    "    medias.append(media)\n",
    "    if media >= 7.0:\n",
    "        alunos_com_media_sete += 1\n",
    "\n",
    "print(\"As médias de cada aluno são:\", medias)\n",
    "print(\"O número de alunos com média maior ou igual a 7.0 é:\", alunos_com_media_sete)\n"
   ]
  },
  {
   "cell_type": "markdown",
   "metadata": {},
   "source": [
    "[6] Faça um Programa que leia e armazene 50 números inteiros, mostre a soma, a multiplicação e os números"
   ]
  },
  {
   "cell_type": "code",
   "execution_count": null,
   "metadata": {},
   "outputs": [],
   "source": [
    "numeros = []\n",
    "soma = 0\n",
    "multiplicacao = 1\n",
    "\n",
    "for i in range(5):\n",
    "    numero = int(input(\"Digite um número inteiro: \"))\n",
    "    numeros.append(numero)\n",
    "    soma += numero\n",
    "    multiplicacao *= numero\n",
    "\n",
    "print(\"Os números que você digitou são:\", numeros)\n",
    "print(\"A soma dos números é:\", soma)\n",
    "print(\"A multiplicação dos números é:\", multiplicacao)\n"
   ]
  },
  {
   "cell_type": "markdown",
   "metadata": {},
   "source": [
    "[7] Faça um Programa que peça a idade e a altura de 10 pessoas, armazene cada informação na sua respectiva lista. Imprima a idade da pessoa que possui maior altura."
   ]
  },
  {
   "cell_type": "code",
   "execution_count": null,
   "metadata": {},
   "outputs": [],
   "source": [
    "idades = []\n",
    "alturas = []\n",
    "\n",
    "for i in range(2):\n",
    "    idade = int(input(\"Digite a idade da pessoa: \"))\n",
    "    altura = float(input(\"Digite a altura da pessoa (em metros): \"))\n",
    "    idades.append(idade)\n",
    "    alturas.append(altura)\n",
    "\n",
    "indice_maior_altura = alturas.index(max(alturas))\n",
    "idade_maior_altura = idades[indice_maior_altura]\n",
    "\n",
    "print(\"A idade da pessoa com maior altura é:\", idade_maior_altura)"
   ]
  },
  {
   "cell_type": "markdown",
   "metadata": {},
   "source": [
    "[8] Faça um Programa que leia uma lista A com 10 números inteiros, calcule e mostre a soma dos quadrados dos elementos do vetor.  "
   ]
  },
  {
   "cell_type": "code",
   "execution_count": null,
   "metadata": {},
   "outputs": [],
   "source": [
    "lista_A = []\n",
    "soma_quadrados = 0\n",
    "for i in range(4):\n",
    "    numero = int(input(\"Digite um número inteiro: \"))\n",
    "    lista_A.append(numero)\n",
    "    soma_quadrados += numero**2\n",
    "    \n",
    "#soma_quadrados = sum([i**2 for i in lista_A])\n",
    "print(\"A soma dos quadrados dos elementos da lista é:\", soma_quadrados)\n"
   ]
  },
  {
   "cell_type": "markdown",
   "metadata": {},
   "source": [
    "[9] Faça um Programa que leia duas listas com 10 elementos cada. Gere uma terceira lista de 20 elementos, cujos valores deverão ser compostos pelos elementos intercalados das duas outras listas."
   ]
  },
  {
   "cell_type": "code",
   "execution_count": null,
   "metadata": {},
   "outputs": [],
   "source": [
    "lista1 = []\n",
    "lista2 = []\n",
    "\n",
    "print(\"Por favor, insira 3 números para a primeira lista:\")\n",
    "for i in range(3):\n",
    "    num = int(input())\n",
    "    print(f'{i+1}º número colocado foi {num}')\n",
    "    lista1.append(num)\n",
    "\n",
    "print(\"Agora, insira 3 números para a segunda lista:\")\n",
    "for i in range(3):\n",
    "    num = int(input())\n",
    "    print(f'{i+1}º número colocado foi {num}')\n",
    "    lista2.append(num)\n",
    "    \n",
    "\n",
    "lista3 = []\n",
    "for i in range(3):\n",
    "    lista3.append(lista1[i])\n",
    "    lista3.append(lista2[i])\n",
    "\n",
    "print(\"A terceira lista, com os elementos intercalados das duas listas, é:\")\n",
    "print(lista3)\n"
   ]
  },
  {
   "cell_type": "markdown",
   "metadata": {},
   "source": [
    "[10]"
   ]
  },
  {
   "cell_type": "markdown",
   "metadata": {},
   "source": [
    "[11] Foram anotadas as idades e alturas de 30 alunos. Faça um Programa que determine quantos alunos com mais de 13 anos possuem altura inferior à média de altura desses alunos. "
   ]
  },
  {
   "cell_type": "code",
   "execution_count": null,
   "metadata": {},
   "outputs": [],
   "source": [
    "idades = []\n",
    "alturas = []\n",
    "\n",
    "print(\"Por favor, insira a idade e a altura de 30 alunos:\")\n",
    "for i in range(3):\n",
    "    idade = int(input(\"Insira a idade do aluno \" + str(i+1) + \": \"))\n",
    "    altura = float(input(\"Insira a altura do aluno \" + str(i+1) + \" em metros: \"))\n",
    "    idades.append(idade)\n",
    "    alturas.append(altura)\n",
    "\n",
    "media_altura = sum(alturas) / len(alturas)\n",
    "\n",
    "contador = 0\n",
    "for i in range(3):\n",
    "    if idades[i] > 13 and alturas[i] < media_altura:\n",
    "        contador += 1\n",
    "\n",
    "print(\"O número de alunos com mais de 13 anos que possuem altura inferior à média de altura dos alunos é:\", contador)\n"
   ]
  },
  {
   "cell_type": "markdown",
   "metadata": {},
   "source": [
    "[12] Escreva um algoritmo que permita a leitura dos nomes de 10 pessoas  e armazene os nomes lidos em uma lista. Após isto, o algoritmo deve permitir a leitura de mais 1 nome qualquer de pessoa e depois escrever a mensagem ACHEI, se o nome estiver entre os 10 nomes lidos anteriormente (guardados na lista), ou NÃO ACHEI caso contrário.  "
   ]
  },
  {
   "cell_type": "code",
   "execution_count": null,
   "metadata": {},
   "outputs": [],
   "source": [
    "nomes = []\n",
    "\n",
    "for i in range(5):\n",
    "    nome = input(\"Digite o nome da pessoa \" + str(i+1) + \": \")\n",
    "    nomes.append(nome)\n",
    "\n",
    "nome = str(input('Qual o nome você quer verificar se possui na lista: '))\n",
    "\n",
    "if nome in nomes:\n",
    "    print('O nome {} está na lista.'.format(nome))\n",
    "else:\n",
    "    print('O nome {} não está na lista.'.format(nome))\n"
   ]
  },
  {
   "cell_type": "markdown",
   "metadata": {},
   "source": [
    "[13] Faça um programa que receba a temperatura média de cada mês do ano e armazene-as em uma lista. Após isto, calcule a média anual das temperaturas e mostre todas as temperaturas acima da média anual, e em que mês elas ocorreram (mostrar o mês por extenso: 1 – Janeiro, 2 – Fevereiro, . . . ).   "
   ]
  },
  {
   "cell_type": "code",
   "execution_count": null,
   "metadata": {},
   "outputs": [],
   "source": [
    "meses = ['1 - Janeiro','2 - Fevereiro', '3 - Março','4 - Abril', '5 - Maior', '6 - Junho', '7 - Julho','8 - Agosto', '9 - Setembro', '10 - Outubro', '11 - Novembro', '12 - Dezembro']\n",
    "temperaturas = []\n",
    "for i in range(12):\n",
    "    temperatura = float(input(\"Digite a temperatura média do mês \" + str(i+1) + \": \"))\n",
    "    temperaturas.append(temperatura)\n",
    "\n",
    "media = sum(temperaturas) / len(temperaturas)\n",
    "\n",
    "for i in range(len(temperaturas)):\n",
    "    if temperaturas[i] > media:\n",
    "        print(f\"A temperatura média do mês {meses[i]} é {temperaturas[i]}ºC e está acima da média.\")\n"
   ]
  },
  {
   "cell_type": "markdown",
   "metadata": {},
   "source": [
    "[14] Faça um programa que leia um número indeterminado de valores, correspondentes a notas, encerrando a entrada de dados quando for informado um valor igual a -1 (que não deve ser armazenado). Após esta entrada de dados, faça:  \n",
    "\n",
    "Mostre a quantidade de valores que foram lidos;  \n",
    "\n",
    "Exiba todos os valores na ordem em que foram informados \n",
    "\n",
    "Exiba todos os valores na ordem inversa à que foram informados \n",
    "\n",
    "Calcule e mostre a soma dos valores;  \n",
    "\n",
    "Calcule e mostre a média dos valores;  \n",
    "\n",
    "Calcule e mostre a quantidade de valores acima da média calculada;  \n",
    "\n",
    "Calcule e mostre a quantidade de valores abaixo de sete;  \n",
    "\n",
    "Encerre o programa com uma mensagem. "
   ]
  },
  {
   "cell_type": "code",
   "execution_count": null,
   "metadata": {},
   "outputs": [],
   "source": [
    "lista_de_numeros = []\n",
    "lista_acima_da_media = []\n",
    "lista_menos_que_sete = []\n",
    "\n",
    "numero_indet = int(input('Digite um número (ou -1 para encerrar): '))\n",
    "while numero_indet != -1:\n",
    "    lista_de_numeros.append(numero_indet)\n",
    "    numero_indet = int(input('Digite um número (ou -1 para encerrar): '))\n",
    "\n",
    "media = sum(lista_de_numeros)/len(lista_de_numeros)\n",
    "print(f'Foram informados {len(lista_de_numeros)} valores.')\n",
    "print(lista_de_numeros)\n",
    "print(list(reversed(lista_de_numeros[-1])))\n",
    "print(sum(lista_de_numeros))\n",
    "print(media)\n",
    "for i in range(len(lista_de_numeros)):\n",
    "    if lista_de_numeros[i] > media:\n",
    "        lista_acima_da_media.append(lista_de_numeros[i])\n",
    "    if lista_de_numeros[i] < 7:\n",
    "        lista_menos_que_sete.append(lista_de_numeros[i])\n",
    "print(lista_acima_da_media)\n",
    "print(lista_menos_que_sete)\n",
    "print('Obrigado por usar nosso sistema.')\n",
    "    \n",
    "    "
   ]
  },
  {
   "cell_type": "markdown",
   "metadata": {},
   "source": [
    "[15] Uma empresa de pesquisas precisa tabular os resultados da seguinte enquete feita a uma grande quantidade de organizações:  \n",
    "\n",
    " \n",
    "\n",
    "\"Qual o melhor Sistema Operacional para uso em servidores?\" \n",
    "\n",
    " \n",
    "\n",
    "As possíveis respostas são: \n",
    "\n",
    " \n",
    "\n",
    "1- Windows Server \n",
    "\n",
    "2- Unix \n",
    "\n",
    "3- Linux \n",
    "\n",
    "4- Netware \n",
    "\n",
    "5- Mac OS \n",
    "\n",
    "6- Outro \n",
    "\n",
    " \n",
    "\n",
    "Você foi contratado para desenvolver um programa que leia o resultado da enquete e informe ao final o resultado da mesma. O programa deverá ler os valores até ser informado o valor 0, que encerra a entrada dos dados. Não deverão ser aceitos valores além dos válidos para o programa (0 a 6). Os valores referentes a cada uma das opções devem ser armazenados numa lista. Após os dados terem sido completamente informados, o programa deverá calcular o percentual de cada um dos concorrentes e informar o vencedor da enquete. O formato da saída foi dado pela empresa, e é o seguinte:  \n",
    "\n",
    " \n",
    "\n",
    "Sistema Operacional     Votos   % \n",
    "\n",
    "-------------------     -----   --- \n",
    "\n",
    "Windows Server           1500   17% \n",
    "\n",
    "Unix                     3500   40% \n",
    "\n",
    "Linux                    3000   34% \n",
    "\n",
    "Netware                   500    5% \n",
    "\n",
    "Mac OS                    150    2% \n",
    "\n",
    "Outro                     150    2% \n",
    "\n",
    "-------------------     ----- \n",
    "\n",
    "Total                    8800 \n",
    "\n",
    " \n",
    "\n",
    "O Sistema Operacional mais votado foi o Unix, com 3500 votos, correspondendo a 40% dos votos. "
   ]
  },
  {
   "cell_type": "code",
   "execution_count": null,
   "metadata": {},
   "outputs": [],
   "source": [
    "votos = [0] * 7 \n",
    "\n",
    "continuar = True\n",
    "\n",
    "while continuar:\n",
    "    voto = int(input(\"Digite o voto (1 a 6) ou 0 para encerrar: \"))\n",
    "    if voto == 0:\n",
    "        continuar = False\n",
    "    else:\n",
    "        if 1 <= voto <= 6:\n",
    "            votos[voto] += 1\n",
    "        else:\n",
    "            print(\"Valor inválido! Digite um valor entre 1 e 6 ou 0 para encerrar.\")\n",
    "\n",
    "total_votos = sum(votos)\n",
    "\n",
    "print(\"\\nSistema Operacional     Votos   %\")\n",
    "print(\"-------------------     -----   ---\")\n",
    "\n",
    "sistemas_operacionais = [\"Windows Server\", \"Unix\", \"Linux\", \"Netware\", \"Mac OS\", \"Outro\"]\n",
    "for i in range(1, 7):\n",
    "    percentual = (votos[i] / total_votos) * 100\n",
    "    print(f\"{sistemas_operacionais[i-7]:<25} {votos[i]:<5}   {percentual:>3.0f}%\")\n",
    "\n",
    "print(\"-------------------     -----\")\n",
    "print(f\"Total {total_votos:>21}\\n\")\n",
    "\n",
    "indice_vencedor = votos.index(max(votos))\n",
    "vencedor = sistemas_operacionais[indice_vencedor - 1]\n",
    "print(f\"O Sistema Operacional mais votado foi o {vencedor}, com {votos[indice_vencedor]} votos, correspondendo a {((votos[indice_vencedor] / total_votos) * 100):.0f}% dos votos.\")\n"
   ]
  },
  {
   "cell_type": "markdown",
   "metadata": {},
   "source": [
    "[16] Escreva um programa em Python para encontrar o segundo maior elemento de uma lista com 20 números inteiros.\n",
    "\n",
    "OBS: todos os valores informados serão de valores diferentes e a solução não deve fazer este tratamento das entradas. Além disso, a solução não deve modificar a lista original com a ordem fornecida dos números."
   ]
  },
  {
   "cell_type": "code",
   "execution_count": null,
   "metadata": {},
   "outputs": [],
   "source": [
    "\n",
    "lista = []\n",
    "for i in range(3):\n",
    "    valor = int(input('Digite um valor: '))\n",
    "    lista.append(valor)\n",
    "\n",
    "copia_lista = lista.copy()\n",
    "\n",
    "max1 = max(copia_lista)\n",
    "copia_lista.remove(max1)\n",
    "\n",
    "max2 = max(copia_lista)\n",
    "\n",
    "print(max2)\n"
   ]
  },
  {
   "cell_type": "markdown",
   "metadata": {},
   "source": [
    "[17] Escreva um programa em Python para converter um número inteiro em binário de acordo com a representação de grandeza com sinal (sinal e magnitude). O programa deve receber um número inteiro e produzir como saída uma lista com os bits do número convertido (um bit para cada posição da lista). Além disso deve ser feita a verificação se o número pode ser representado, considere uma representação com 8 bits (um para o sinal e 7 para a magnitude)."
   ]
  },
  {
   "cell_type": "code",
   "execution_count": null,
   "metadata": {},
   "outputs": [],
   "source": [
    "num = int(input('Digite um número decimal: '))\n",
    "\n",
    "binario = ''\n",
    "\n",
    "if num < 0:\n",
    "    binario += '1'\n",
    "    num *= -1\n",
    "else:\n",
    "    binario += '0'\n",
    "\n",
    "for i in range(6, -1, -1):\n",
    "    if num >= 2**i:\n",
    "        binario += '1'\n",
    "        num -= 2**i\n",
    "    else:\n",
    "        binario += '0'\n",
    "\n",
    "print(binario)\n"
   ]
  },
  {
   "cell_type": "markdown",
   "metadata": {},
   "source": [
    "[18] Leia uma matriz 4 x 4, conte e escreva quantos valores maiores que 10 ela possui. "
   ]
  },
  {
   "cell_type": "code",
   "execution_count": null,
   "metadata": {},
   "outputs": [],
   "source": [
    "matriz = []\n",
    "\n",
    "for i in range(4):\n",
    "    linha = []\n",
    "    for j in range(4):\n",
    "        num = int(input(f\"Digite o número na posição ({i+1}, {j+1}): \"))\n",
    "        linha.append(num)\n",
    "    matriz.append(linha)\n",
    "\n",
    "contador = 0\n",
    "\n",
    "for i in range(4):\n",
    "    for j in range(4):\n",
    "        if matriz[i][j] > 10:\n",
    "            contador += 1\n",
    "\n",
    "print(f\"A matriz possui {contador} valores maiores que 10.\")\n"
   ]
  },
  {
   "cell_type": "markdown",
   "metadata": {},
   "source": [
    "[19] Declare uma matriz 5 x 5. Preencha com 1 a diagonal principal e com 0 os demais elementos. Escreva ao ﬁnal a matriz obtida.7"
   ]
  },
  {
   "cell_type": "code",
   "execution_count": null,
   "metadata": {},
   "outputs": [],
   "source": [
    "matriz = [[0 for _ in range(5)] for _ in range(5)]\n",
    "\n",
    "for i in range(5):\n",
    "    matriz[i][i] = 1\n",
    "\n",
    "for linha in matriz:\n",
    "    print(linha)\n"
   ]
  },
  {
   "cell_type": "markdown",
   "metadata": {},
   "source": [
    "[20] Leia uma matriz 5 x 5. Leia também um valor X. O programa deverá fazer uma busca desse valor na matriz e, ao ﬁnal, escrever a localizacão (linha e coluna) ou uma mensagem de “não encontrado”. "
   ]
  },
  {
   "cell_type": "code",
   "execution_count": null,
   "metadata": {},
   "outputs": [],
   "source": [
    "matriz = [[1, 2, 3, 4, 5], [6, 7, 8, 9, 10], [11, 12, 13, 14, 15], [16, 17, 18, 19, 20], [21, 22, 23, 24, 25]]\n",
    "X = 13\n",
    "# matriz = []\n",
    "\n",
    "# for i in range(5):\n",
    "#     linha = []\n",
    "#     for j in range(5):\n",
    "#         num = int(input(f\"Digite o número na posição ({i+1}, {j+1}): \"))\n",
    "#         linha.append(num)\n",
    "#     matriz.append(linha)\n",
    "\n",
    "# X = int(input(\"Digite o valor de X: \"))\n",
    "\n",
    "encontrado = False\n",
    "\n",
    "for i in range(5):\n",
    "    for j in range(5):\n",
    "        if matriz[i][j] == X:\n",
    "            print(f\"Valor encontrado na linha {i+1}, coluna {j+1}\")\n",
    "            encontrado = True\n",
    "\n",
    "\n",
    "if not encontrado:\n",
    "    print(\"Valor não encontrado\")\n"
   ]
  },
  {
   "cell_type": "markdown",
   "metadata": {},
   "source": [
    "[21] Leia duas matrizes 4x4 e escreva uma terceira com os maiores valores de cada posição das matrizes lidas."
   ]
  },
  {
   "cell_type": "code",
   "execution_count": null,
   "metadata": {},
   "outputs": [],
   "source": [
    "matriz1 = [[1, 2, 3, 4], [5, 6, 7, 8], [9, 10, 11, 12], [13, 14, 15, 16]]\n",
    "matriz2 = [[16, 15, 14, 13], [12, 11, 10, 9], [8, 7, 6, 5], [4, 3, 2, 1]]\n",
    "# matriz1 = []\n",
    "# matriz2 = []\n",
    "# print(\"Digite os números da primeira matriz:\")\n",
    "# for i in range(4):\n",
    "#     linha = []\n",
    "#     for j in range(4):\n",
    "#         num = int(input(f\"Digite o número na posição ({i+1}, {j+1}): \"))\n",
    "#         linha.append(num)\n",
    "#     matriz1.append(linha)\n",
    "\n",
    "# print(\"Digite os números da segunda matriz:\")\n",
    "# for i in range(4):\n",
    "#     linha = []\n",
    "#     for j in range(4):\n",
    "#         num = int(input(f\"Digite o número na posição ({i+1}, {j+1}): \"))\n",
    "#         linha.append(num)\n",
    "#     matriz2.append(linha)\n",
    "\n",
    "matriz3 = [[0 for _ in range(4)] for _ in range(4)]\n",
    "\n",
    "for i in range(4):\n",
    "    for j in range(4):\n",
    "        matriz3[i][j] = max(matriz1[i][j], matriz2[i][j])\n",
    "\n",
    "print(\"A terceira matriz é:\")\n",
    "for linha in matriz3:\n",
    "    print(linha)\n"
   ]
  },
  {
   "cell_type": "markdown",
   "metadata": {},
   "source": [
    "[22]     22. Gerar e imprimir uma matriz de tamanho 10 x 10, onde seus elementos são da forma: \n",
    "\n",
    "        a. A[i][j] = 2i + 7j −2 se i < j; \n",
    "        b. A[i][j] = 3i2 −1 se i = j; \n",
    "        c. A[i][j] = 4i3 −5j2 + 1 se i > j. "
   ]
  },
  {
   "cell_type": "code",
   "execution_count": null,
   "metadata": {},
   "outputs": [],
   "source": [
    "A = [[0 for _ in range(10)] for _ in range(10)]\n",
    "\n",
    "for i in range(10):\n",
    "    for j in range(10):\n",
    "        if i < j:\n",
    "            A[i][j] = 2*i + 7*j - 2\n",
    "        elif i == j:\n",
    "            A[i][j] = 3*i**2 - 1\n",
    "        else:\n",
    "            A[i][j] = 4*i**3 - 5*j**2 + 1\n",
    "\n",
    "for linha in A:\n",
    "    print(linha)\n"
   ]
  }
 ],
 "metadata": {
  "kernelspec": {
   "display_name": "Python 3",
   "language": "python",
   "name": "python3"
  },
  "language_info": {
   "codemirror_mode": {
    "name": "ipython",
    "version": 3
   },
   "file_extension": ".py",
   "mimetype": "text/x-python",
   "name": "python",
   "nbconvert_exporter": "python",
   "pygments_lexer": "ipython3",
   "version": "3.11.9"
  }
 },
 "nbformat": 4,
 "nbformat_minor": 2
}
