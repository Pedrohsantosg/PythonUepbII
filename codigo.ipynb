{
 "cells": [
  {
   "cell_type": "markdown",
   "metadata": {},
   "source": [
    "[1] Faça um Programa que leia 5 números inteiros, armazene-os em uma lista."
   ]
  },
  {
   "cell_type": "code",
   "execution_count": null,
   "metadata": {},
   "outputs": [],
   "source": [
    "lista = []\n",
    "for i in range(5):\n",
    "    numeros_int = int(input(\"Digite um número inteiro: \"))\n",
    "    lista.append(numeros_int)\n",
    "    print(lista)"
   ]
  },
  {
   "cell_type": "markdown",
   "metadata": {},
   "source": [
    "[2] Faça um Programa que leia 10 números reais e mostre-os na ordem inversa."
   ]
  },
  {
   "cell_type": "code",
   "execution_count": null,
   "metadata": {},
   "outputs": [],
   "source": [
    "lista = []\n",
    "\n",
    "for i in range(10):\n",
    "    numeros_int = int(input(\"Digite um número real: \"))\n",
    "    lista.append(numeros_int)\n",
    "    print(lista)\n",
    "lista.reverse()\n",
    "print(lista)"
   ]
  },
  {
   "cell_type": "markdown",
   "metadata": {},
   "source": [
    "[3] Faça um Programa que leia 40 notas, mostre as notas e a média na tela. "
   ]
  },
  {
   "cell_type": "code",
   "execution_count": null,
   "metadata": {},
   "outputs": [],
   "source": [
    "notas = []\n",
    "\n",
    "for i in range(3):\n",
    "    nota = float(input(\"Digite uma nota: \"))\n",
    "    notas.append(nota)\n",
    "media = sum(notas) / len(notas)\n",
    "print(\"As notas que você digitou são:\", notas)\n",
    "print(\"A média das notas é: {:.2f}\".format(media))\n"
   ]
  },
  {
   "cell_type": "markdown",
   "metadata": {},
   "source": [
    "[4] Faça um Programa que leia 20 números inteiros e armazene-os numa lista. Armazene os números pares na lista PAR e os números IMPARES na lista impar. Imprima as três listas."
   ]
  },
  {
   "cell_type": "code",
   "execution_count": null,
   "metadata": {},
   "outputs": [],
   "source": [
    "numeros = []\n",
    "pares = []\n",
    "impares = []\n",
    "\n",
    "for i in range(5):\n",
    "    numero = int(input(\"Digite um número inteiro: \"))\n",
    "    numeros.append(numero)\n",
    "    if numero % 2 == 0:\n",
    "        pares.append(numero)\n",
    "    else:\n",
    "        impares.append(numero)\n",
    "\n",
    "print(\"Os números que você digitou são:\", numeros)\n",
    "print(\"Os números pares são:\", pares)\n",
    "print(\"Os números ímpares são:\", impares)\n"
   ]
  },
  {
   "cell_type": "markdown",
   "metadata": {},
   "source": [
    "[5] Faça um Programa que peça as quatro notas de 10 alunos, calcule e armazene numa lista a média de cada aluno, imprima o número de alunos com média maior ou igual a 7.0. "
   ]
  },
  {
   "cell_type": "code",
   "execution_count": null,
   "metadata": {},
   "outputs": [],
   "source": [
    "medias = []\n",
    "alunos_com_media_sete = 0\n",
    "\n",
    "for i in range(2):\n",
    "    notas = []\n",
    "    for j in range(2):\n",
    "        nota = float(input(f\"Digite a nota {j+1} do aluno {i+1}: \"))\n",
    "        notas.append(nota)\n",
    "    media = sum(notas) / len(notas)\n",
    "    medias.append(media)\n",
    "    if media >= 7.0:\n",
    "        alunos_com_media_sete += 1\n",
    "\n",
    "print(\"As médias de cada aluno são:\", medias)\n",
    "print(\"O número de alunos com média maior ou igual a 7.0 é:\", alunos_com_media_sete)\n"
   ]
  },
  {
   "cell_type": "markdown",
   "metadata": {},
   "source": [
    "[6] Faça um Programa que leia e armazene 50 números inteiros, mostre a soma, a multiplicação e os números"
   ]
  },
  {
   "cell_type": "code",
   "execution_count": null,
   "metadata": {},
   "outputs": [],
   "source": [
    "numeros = []\n",
    "soma = 0\n",
    "multiplicacao = 1\n",
    "\n",
    "for i in range(5):\n",
    "    numero = int(input(\"Digite um número inteiro: \"))\n",
    "    numeros.append(numero)\n",
    "    soma += numero\n",
    "    multiplicacao *= numero\n",
    "\n",
    "print(\"Os números que você digitou são:\", numeros)\n",
    "print(\"A soma dos números é:\", soma)\n",
    "print(\"A multiplicação dos números é:\", multiplicacao)\n"
   ]
  },
  {
   "cell_type": "markdown",
   "metadata": {},
   "source": [
    "[7] Faça um Programa que peça a idade e a altura de 10 pessoas, armazene cada informação na sua respectiva lista. Imprima a idade da pessoa que possui maior altura."
   ]
  },
  {
   "cell_type": "code",
   "execution_count": null,
   "metadata": {},
   "outputs": [],
   "source": [
    "idades = []\n",
    "alturas = []\n",
    "\n",
    "for i in range(2):\n",
    "    idade = int(input(\"Digite a idade da pessoa: \"))\n",
    "    altura = float(input(\"Digite a altura da pessoa (em metros): \"))\n",
    "    idades.append(idade)\n",
    "    alturas.append(altura)\n",
    "\n",
    "indice_maior_altura = alturas.index(max(alturas))\n",
    "idade_maior_altura = idades[indice_maior_altura]\n",
    "\n",
    "print(\"A idade da pessoa com maior altura é:\", idade_maior_altura)"
   ]
  },
  {
   "cell_type": "markdown",
   "metadata": {},
   "source": [
    "[8] Faça um Programa que leia uma lista A com 10 números inteiros, calcule e mostre a soma dos quadrados dos elementos do vetor.  "
   ]
  },
  {
   "cell_type": "code",
   "execution_count": null,
   "metadata": {},
   "outputs": [],
   "source": [
    "lista_A = []\n",
    "soma_quadrados = 0\n",
    "for i in range(4):\n",
    "    numero = int(input(\"Digite um número inteiro: \"))\n",
    "    lista_A.append(numero)\n",
    "    soma_quadrados += numero**2\n",
    "    \n",
    "#soma_quadrados = sum([i**2 for i in lista_A])\n",
    "print(\"A soma dos quadrados dos elementos da lista é:\", soma_quadrados)\n"
   ]
  },
  {
   "cell_type": "markdown",
   "metadata": {},
   "source": [
    "[9] Faça um Programa que leia duas listas com 10 elementos cada. Gere uma terceira lista de 20 elementos, cujos valores deverão ser compostos pelos elementos intercalados das duas outras listas."
   ]
  },
  {
   "cell_type": "code",
   "execution_count": null,
   "metadata": {},
   "outputs": [],
   "source": [
    "lista1 = []\n",
    "lista2 = []\n",
    "for i in range(2):\n",
    "    numero1 = int(input(\"Digite um número para a lista 1: \"))\n",
    "    numero2 = int(input(\"Digite um número para a lista 2: \"))\n",
    "    lista1.append(numero1)\n",
    "    lista2.append(numero2)\n",
    "\n",
    "lista3 = [None]*(len(lista1)+len(lista2))\n",
    "lista3[::2] = lista1\n",
    "lista3[1::2] = lista2\n",
    "\n",
    "print(\"Lista 1:\", lista1)\n",
    "print(\"Lista 2:\", lista2)\n",
    "print(\"Lista intercalada:\", lista3)\n"
   ]
  }
 ],
 "metadata": {
  "kernelspec": {
   "display_name": "Python 3",
   "language": "python",
   "name": "python3"
  },
  "language_info": {
   "codemirror_mode": {
    "name": "ipython",
    "version": 3
   },
   "file_extension": ".py",
   "mimetype": "text/x-python",
   "name": "python",
   "nbconvert_exporter": "python",
   "pygments_lexer": "ipython3",
   "version": "3.11.9"
  }
 },
 "nbformat": 4,
 "nbformat_minor": 2
}
